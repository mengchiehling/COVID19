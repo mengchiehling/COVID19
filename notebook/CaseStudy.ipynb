{
 "cells": [
  {
   "cell_type": "markdown",
   "metadata": {},
   "source": [
    "Here we investigate the impact of covid-19 to beauty/cosmetic industry in 2020. We focus on the aggregated consumers behavior \n",
    "by looking at annual reports of listed companies."
   ]
  },
  {
   "cell_type": "code",
   "execution_count": null,
   "metadata": {},
   "outputs": [],
   "source": [
    "import os\n",
    "\n",
    "# Change the working directory\n",
    "os.chdir(\"/\".join(os.getcwd().split(\"/\")[:-1]))\n",
    "\n",
    "import numpy as np\n",
    "import pandas as pd\n",
    "import matplotlib.pyplot as plt\n",
    "\n",
    "from covid19.io.path_definition import get_file"
   ]
  },
  {
   "cell_type": "code",
   "execution_count": null,
   "metadata": {},
   "outputs": [],
   "source": [
    "def build_df_dict(xls, sheet_name, section):\n",
    "    \n",
    "    df = pd.read_excel(xls, sheet_name=sheet_name)\n",
    "\n",
    "    unique_sections = np.unique(df[section].tolist())\n",
    "\n",
    "    df_dict = {}\n",
    "\n",
    "    for c in unique_sections:\n",
    "        df_dict[c] = df[df[section]==c].sort_values(by='Year')\n",
    "    \n",
    "    return df_dict\n",
    "\n",
    "def time_series_plot(ax, df: pd.DataFrame, category: str, xlabel: str, ylabel: str):\n",
    "    \n",
    "    ax.plot(df[xlabel], df[ylabel], marker='o', label=category)\n",
    "\n",
    "    ax.set_ylabel(f\"{ylabel} (Million $)\", fontsize=16)\n",
    "    ax.set_xlabel(xlabel, fontsize=16)\n",
    "\n",
    "    ax.set_xticks(ticks = df[xlabel])\n",
    "\n",
    "    ax.legend(frameon=False)"
   ]
  },
  {
   "cell_type": "markdown",
   "metadata": {},
   "source": [
    "# Estee Lauder \n",
    "\n",
    "1. Overall Net Sales and Operating Income\n",
    "2. Region (America, EMEA, Asia/Pacific) data from 2015 - 2020\n",
    "3. Category (Skin Care, Makeup, Fragrance, Hair Care, Other) data from 2016 - 2020"
   ]
  },
  {
   "cell_type": "markdown",
   "metadata": {},
   "source": [
    "## Overall performance"
   ]
  },
  {
   "cell_type": "code",
   "execution_count": null,
   "metadata": {},
   "outputs": [],
   "source": [
    "# data\n",
    "xls = pd.ExcelFile(f\"{get_file('data/EsteeLauder.xlsx')}\", engine='openpyxl')"
   ]
  },
  {
   "cell_type": "code",
   "execution_count": null,
   "metadata": {},
   "outputs": [],
   "source": [
    "df_dict = build_df_dict(xls=xls, sheet_name='By_Region', section='Region')"
   ]
  },
  {
   "cell_type": "code",
   "execution_count": null,
   "metadata": {},
   "outputs": [],
   "source": [
    "df_dict['America'].set_index('Year')['NetSales'].to_dict()"
   ]
  },
  {
   "cell_type": "code",
   "execution_count": null,
   "metadata": {},
   "outputs": [],
   "source": [
    "from collections import defaultdict\n",
    "\n",
    "netSales_dict = defaultdict(int)\n",
    "\n",
    "for key, df in df_dict.items():\n",
    "    key_dict = df.set_index('Year')['NetSales'].to_dict()\n",
    "    for year, sale in key_dict.items():\n",
    "        netSales_dict[year] += sale"
   ]
  },
  {
   "cell_type": "code",
   "execution_count": null,
   "metadata": {},
   "outputs": [],
   "source": [
    "netSales_df = pd.DataFrame.from_dict(netSales_dict, orient='index', columns=['NetSales']).sort_index()\n",
    "netSales_df.index.name='Year'\n",
    "netSales_df.reset_index(inplace=True)"
   ]
  },
  {
   "cell_type": "code",
   "execution_count": null,
   "metadata": {},
   "outputs": [],
   "source": [
    "fig, ax = plt.subplots(figsize=(8, 6))\n",
    "\n",
    "time_series_plot(ax,netSales_df, 'Estee Lauder net sales', 'Year', 'NetSales')"
   ]
  },
  {
   "cell_type": "markdown",
   "metadata": {},
   "source": [
    "We can clearly see that the outbreak of COVID19 in 2019 had negative impact on Estee Lauder's sale in 2019-2020. Since Estee Lauder also realeased its performance in different region and sectors, let us take a closer look at these details."
   ]
  },
  {
   "cell_type": "markdown",
   "metadata": {},
   "source": [
    "## Region\n",
    "\n",
    "Here we show the net sales and operating income by regions side by side realease by Estee Lauder from 2016 to 2020. There are three different regions: America, Asia/Pacific, and EMEA"
   ]
  },
  {
   "cell_type": "code",
   "execution_count": null,
   "metadata": {},
   "outputs": [],
   "source": [
    "nrows=3\n",
    "ncols=2\n",
    "        \n",
    "fig, axes = plt.subplots(nrows=nrows, ncols=ncols, figsize=(8*ncols, 6*nrows))\n",
    "\n",
    "for ic, c in enumerate(list(df_dict.keys())):\n",
    "    iy = ic%nrows\n",
    "    time_series_plot(axes[iy][0],df_dict[c], c, 'Year', 'NetSales')\n",
    "    time_series_plot(axes[iy][1],df_dict[c], c, 'Year', 'OperatingIncome')"
   ]
  },
  {
   "cell_type": "code",
   "execution_count": null,
   "metadata": {},
   "outputs": [],
   "source": [
    "region_variation = []\n",
    "netsale_2019 = 0\n",
    "netsale_2020 = 0\n",
    "\n",
    "for region, df in df_dict.items():\n",
    "    df_temp = df.set_index('Year')\n",
    "    \n",
    "    r_2019 = df_temp.loc[2019]['NetSales']\n",
    "    r_2020 = df_temp.loc[2020]['NetSales']\n",
    "    \n",
    "    region_variation.append((region, np.round((r_2020 - r_2019)/r_2019, 4)))\n",
    "    \n",
    "    netsale_2020 += r_2020\n",
    "    netsale_2019 += r_2019\n",
    "\n",
    "region_variation.sort(key=lambda x: x[1])\n",
    "print(region_variation)\n",
    "print('Group net sales variation', np.round((netsale_2020 - netsale_2019)/netsale_2019, 4))"
   ]
  },
  {
   "cell_type": "markdown",
   "metadata": {},
   "source": [
    "It can be seen clearly that different regions reacted differently to COVID-19. Sales in EMEA region was relatively stable, while sales in America dropped by 20%. Yet sales in the Asia/Pacific region increased by 15%. After showing the performance in different regions, let us see the performances of different cosmetic categories: fragrnace, hair care, makeup, skin care, and others."
   ]
  },
  {
   "cell_type": "markdown",
   "metadata": {},
   "source": [
    "Here we show the net sales by product categories realease by Estee Lauder from 2015 to 2020"
   ]
  },
  {
   "cell_type": "code",
   "execution_count": null,
   "metadata": {},
   "outputs": [],
   "source": [
    "nrows=5\n",
    "ncols=2\n",
    "\n",
    "df_dict = build_df_dict(xls=xls, sheet_name='By_Category', section='Product Category')\n",
    "    \n",
    "fig, axes = plt.subplots(nrows=nrows, ncols=ncols, figsize=(8*ncols, 6*nrows))\n",
    "\n",
    "for ic, c in enumerate(list(df_dict.keys())):\n",
    "    iy = ic%nrows\n",
    "    time_series_plot(axes[iy][0],df_dict[c], c, 'Year', 'NetSales')\n",
    "    time_series_plot(axes[iy][1],df_dict[c], c, 'Year', 'OperatingIncome')"
   ]
  },
  {
   "cell_type": "code",
   "execution_count": null,
   "metadata": {},
   "outputs": [],
   "source": [
    "category_variation = []\n",
    "netsale_2019 = 0\n",
    "netsale_2020 = 0\n",
    "\n",
    "for category, df in df_dict.items():\n",
    "    df_temp = df.set_index('Year')\n",
    "    \n",
    "    r_2019 = df_temp.loc[2019]['NetSales']\n",
    "    r_2020 = df_temp.loc[2020]['NetSales']\n",
    "    \n",
    "    category_variation.append((category, np.round((r_2020 - r_2019)/r_2019, 4)))\n",
    "    \n",
    "    netsale_2020 += r_2020\n",
    "    netsale_2019 += r_2019\n",
    "\n",
    "category_variation.sort(key=lambda x: x[1])\n",
    "print(category_variation)\n",
    "print('Group net sales variation', np.round((netsale_2020 - netsale_2019)/netsale_2019, 4))"
   ]
  },
  {
   "cell_type": "markdown",
   "metadata": {},
   "source": [
    "I talked to one of my friends working in Wella, he told me that sales in hair care products dropped drastically because salons were shut down. Lock down reduced the amount of social activities, so the need of dressing up also reduced. Follow this line of thought, the decrease in makeup and fragrance is expected. Nevertheless, sales of skin care product still increased. It might be due to that skin care is more similar to eating and sleeping, it is something needed to be done on the daily basis. \n",
    "\n",
    "There is a hypothesis of increasing in sales in the skin care sector and in the Asia/Pacific region. In Asia, skin care has a higher priority than make up. That means females spend more budget on skin care products. Also the popularity in e-commerce and convenient delivery service (door to door in 24 hours or shorter after the ordering) in Asia, especially in China, helped maintain the sales of cosmetic products. \n",
    "\n",
    "This is just one company. To see the impact of COVID19, we need to investigate more companies."
   ]
  },
  {
   "cell_type": "markdown",
   "metadata": {
    "tags": []
   },
   "source": [
    "# ULTA\n",
    "\n",
    "Category (Cosmetic, Skincare, bath, and fragrance, Haicare products and styling tools, Service) data from 2016 - 2020"
   ]
  },
  {
   "cell_type": "code",
   "execution_count": null,
   "metadata": {},
   "outputs": [],
   "source": [
    "xls = pd.ExcelFile(f\"{get_file('data/ULTA.xlsx')}\", engine='openpyxl')\n",
    "df_dict = build_df_dict(xls=xls, sheet_name='By_Category', section='Product Category')"
   ]
  },
  {
   "cell_type": "code",
   "execution_count": null,
   "metadata": {},
   "outputs": [],
   "source": [
    "netSales_dict = defaultdict(int)\n",
    "\n",
    "for key, df in df_dict.items():\n",
    "    key_dict = df.set_index('Year')['NetSales'].to_dict()\n",
    "    for year, sale in key_dict.items():\n",
    "        netSales_dict[year] += sale\n",
    "        \n",
    "netSales_df = pd.DataFrame.from_dict(netSales_dict, orient='index', columns=['NetSales']).sort_index()\n",
    "netSales_df.index.name='Year'\n",
    "netSales_df.reset_index(inplace=True)\n",
    "\n",
    "fig, ax = plt.subplots(figsize=(8, 6))\n",
    "\n",
    "time_series_plot(ax,netSales_df, 'ULTA net sales', 'Year', 'NetSales')"
   ]
  },
  {
   "cell_type": "markdown",
   "metadata": {},
   "source": [
    "Similar to Estee Lauder, COVID19 also had a negative impact to the sales of ULTA, no surprise. But how did different sections perform?"
   ]
  },
  {
   "cell_type": "code",
   "execution_count": null,
   "metadata": {},
   "outputs": [],
   "source": [
    "nrows=3\n",
    "ncols=2\n",
    "        \n",
    "fig, axes = plt.subplots(nrows=nrows, ncols=ncols, figsize=(8*ncols, 6*nrows))\n",
    "\n",
    "for ic, c in enumerate(list(df_dict.keys())):\n",
    "    iy = ic%nrows\n",
    "    ix = ic//nrows\n",
    "    time_series_plot(axes[iy][ix],df_dict[c], c, 'Year', 'NetSales')"
   ]
  },
  {
   "cell_type": "code",
   "execution_count": null,
   "metadata": {},
   "outputs": [],
   "source": [
    "category_variation = []\n",
    "revenue_2019 = 0\n",
    "revenue_2020 = 0\n",
    "\n",
    "for category, df in df_dict.items():\n",
    "    df_temp = df.set_index('Year')\n",
    "    \n",
    "    r_2019 = df_temp.loc[2019]['NetSales']\n",
    "    r_2020 = df_temp.loc[2020]['NetSales']\n",
    "    \n",
    "    category_variation.append((category, np.round((r_2020 - r_2019)/r_2019, 4)))\n",
    "    \n",
    "    revenue_2020 += r_2020\n",
    "    revenue_2019 += r_2019\n",
    "\n",
    "category_variation.sort(key=lambda x: x[1])\n",
    "print(category_variation)\n",
    "print('Group variation', np.round((revenue_2020 - revenue_2019)/revenue_2019, 4))"
   ]
  },
  {
   "cell_type": "markdown",
   "metadata": {},
   "source": [
    "Similarly, slaes in most sections decreased except the skin care section. This gives us more confidence that among cosmetic products, skin care products are more resilient to large scale pandemic."
   ]
  },
  {
   "cell_type": "markdown",
   "metadata": {},
   "source": [
    "# L'Oreal\n",
    "\n",
    "1. Overall Sales\n",
    "2. Region (Western Europe, North America, Asia Pacific, Latin America, Eastern Europe, Africa, Middle East) data from 2016 - 2020\n",
    "3. Category (Skincare, Makeup, Fragrances, Haircare, Hair Colouring, Other) data from 2016 - 2020\n",
    "3. Division (Consumer, L'Oreal Luxe, Professional, Active Cosmetic) data from 2016 - 2020"
   ]
  },
  {
   "cell_type": "code",
   "execution_count": null,
   "metadata": {},
   "outputs": [],
   "source": [
    "xls = pd.ExcelFile(f\"{get_file(r'data/LOreal.xlsx')}\", engine='openpyxl')\n",
    "df_dict = build_df_dict(xls=xls, sheet_name='By_Region', section='Region')\n",
    "\n",
    "sales_dict = defaultdict(int)\n",
    "\n",
    "for key, df in df_dict.items():\n",
    "    key_dict = df.set_index('Year')['Sales'].to_dict()\n",
    "    for year, sale in key_dict.items():\n",
    "        sales_dict[year] += sale\n",
    "        \n",
    "sales_df = pd.DataFrame.from_dict(sales_dict, orient='index', columns=['Sales']).sort_index()\n",
    "sales_df.index.name='Year'\n",
    "sales_df.reset_index(inplace=True)\n",
    "\n",
    "fig, ax = plt.subplots(figsize=(8, 6))\n",
    "\n",
    "time_series_plot(ax, sales_df, \"L'Oreal sales\", 'Year', 'Sales')"
   ]
  },
  {
   "cell_type": "markdown",
   "metadata": {},
   "source": [
    "Similar to Estee Lauder and ULTA, COVID19 also had a negative impact to the sales of L'Oreal, no surprise. Given that L'Oreal is the market leader in cosmetic industry, followed by Estee Lauder (I might be wrong), we already know that the entire cosmetic industry was swept by COVID19. But did the skin care sector and Asia region market also increase?"
   ]
  },
  {
   "cell_type": "markdown",
   "metadata": {},
   "source": [
    "Here we show the sales by region realease by L'Oreal from 2016 to 2020"
   ]
  },
  {
   "cell_type": "code",
   "execution_count": null,
   "metadata": {},
   "outputs": [],
   "source": [
    "nrows=3\n",
    "ncols=2\n",
    "\n",
    "fig, axes = plt.subplots(nrows=nrows, ncols=ncols, figsize=(8*ncols, 6*nrows))\n",
    "\n",
    "for ic, c in enumerate(list(df_dict.keys())):\n",
    "    iy = ic%nrows\n",
    "    ix = ic//nrows\n",
    "    time_series_plot(axes[iy][ix],df_dict[c], c, 'Year', 'Sales')"
   ]
  },
  {
   "cell_type": "code",
   "execution_count": null,
   "metadata": {},
   "outputs": [],
   "source": [
    "region_variation = []\n",
    "revenue_2019 = 0\n",
    "revenue_2020 = 0\n",
    "\n",
    "for region, df in df_dict.items():\n",
    "    df_temp = df.set_index('Year')\n",
    "    \n",
    "    r_2019 = df_temp.loc[2019]['Sales']\n",
    "    r_2020 = df_temp.loc[2020]['Sales']\n",
    "    \n",
    "    region_variation.append((region, np.round((r_2020 - r_2019)/r_2019, 4)))\n",
    "    \n",
    "    revenue_2020 += r_2020\n",
    "    revenue_2019 += r_2019\n",
    "\n",
    "region_variation.sort(key=lambda x: x[1])\n",
    "print(region_variation)\n",
    "print('Group variation', np.round((revenue_2020 - revenue_2019)/revenue_2019, 4))"
   ]
  },
  {
   "cell_type": "markdown",
   "metadata": {},
   "source": [
    "Consistent with Estee Lauder's sales in Asia/Pacific market, L'Oreal's market also increased, altought only slightly. Next we can see sales amont different product categories. "
   ]
  },
  {
   "cell_type": "markdown",
   "metadata": {},
   "source": [
    "Here we show the sales by product categories realease by L'Oreal from 2016 to 2020"
   ]
  },
  {
   "cell_type": "code",
   "execution_count": null,
   "metadata": {},
   "outputs": [],
   "source": [
    "nrows=3\n",
    "ncols=2\n",
    "\n",
    "df_dict = build_df_dict(xls=xls, sheet_name='By_Category', section='Product Category')\n",
    "        \n",
    "fig, axes = plt.subplots(nrows=nrows, ncols=ncols, figsize=(8*ncols, 6*nrows))\n",
    "\n",
    "for ic, c in enumerate(list(df_dict.keys())):\n",
    "    iy = ic%nrows\n",
    "    ix = ic//nrows\n",
    "    time_series_plot(axes[iy][ix],df_dict[c], c, 'Year', 'Sales')"
   ]
  },
  {
   "cell_type": "markdown",
   "metadata": {},
   "source": [
    "As expected, sales in skin care section also increased.  "
   ]
  },
  {
   "cell_type": "code",
   "execution_count": null,
   "metadata": {},
   "outputs": [],
   "source": [
    "category_variation = []\n",
    "revenue_2019 = 0\n",
    "revenue_2020 = 0\n",
    "\n",
    "for category, df in df_dict.items():\n",
    "    df_temp = df.set_index('Year')\n",
    "    \n",
    "    r_2019 = df_temp.loc[2019]['Sales']\n",
    "    r_2020 = df_temp.loc[2020]['Sales']\n",
    "    \n",
    "    category_variation.append((category, np.round((r_2020 - r_2019)/r_2019, 4)))\n",
    "    \n",
    "    revenue_2020 += r_2020\n",
    "    revenue_2019 += r_2019\n",
    "\n",
    "category_variation.sort(key=lambda x: x[1])\n",
    "print(category_variation)\n",
    "print('Group variation', np.round((revenue_2020 - revenue_2019)/revenue_2019, 4))"
   ]
  },
  {
   "cell_type": "markdown",
   "metadata": {},
   "source": [
    "Short summary: L'Oreal's sales dropped in most of their categories but skin care products keep increasing. This result is consistent with the behavior shown in Estee Lauder. Now we are pretty sure that having strong skin care product lines is crucial because it might save the company's life in a critical situation. Since L'Oreal also released its annual reports for different product lines, we can take a look."
   ]
  },
  {
   "cell_type": "markdown",
   "metadata": {},
   "source": [
    "Here we show the sales by division realease by L'Oreal from 2016 to 2020"
   ]
  },
  {
   "cell_type": "code",
   "execution_count": null,
   "metadata": {},
   "outputs": [],
   "source": [
    "nrows=2\n",
    "ncols=2\n",
    "\n",
    "df_dict = build_df_dict(xls=xls, sheet_name='By_Division', section='Division')\n",
    "        \n",
    "fig, axes = plt.subplots(nrows=nrows, ncols=ncols, figsize=(8*ncols, 6*nrows))\n",
    "\n",
    "for ic, c in enumerate(list(df_dict.keys())):\n",
    "    iy = ic%nrows\n",
    "    ix = ic//nrows\n",
    "    time_series_plot(axes[iy][ix],df_dict[c], c, 'Year', 'Sales')"
   ]
  },
  {
   "cell_type": "code",
   "execution_count": null,
   "metadata": {},
   "outputs": [],
   "source": [
    "division_variation = []\n",
    "revenue_2019 = 0\n",
    "revenue_2020 = 0\n",
    "\n",
    "for division, df in df_dict.items():\n",
    "    df_temp = df.set_index('Year')\n",
    "    \n",
    "    r_2019 = df_temp.loc[2019]['Sales']\n",
    "    r_2020 = df_temp.loc[2020]['Sales']\n",
    "    \n",
    "    division_variation.append((division, np.round((r_2020 - r_2019)/r_2019, 4)))\n",
    "    \n",
    "    revenue_2020 += r_2020\n",
    "    revenue_2019 += r_2019\n",
    "\n",
    "division_variation.sort(key=lambda x: x[1])\n",
    "print(division_variation)\n",
    "print('Group variation', np.round((revenue_2020 - revenue_2019)/revenue_2019, 4))"
   ]
  },
  {
   "cell_type": "markdown",
   "metadata": {},
   "source": [
    "I checked how active cosmetic was defined by L'Oreal and it turned out to be skincare related products. Combining the results from the previous section, we know that skin care related products were in strong demand. Out of interest, I also checked the content of 'professional' products. It turned out it was for hairdressers. No surprise this line was hit the most during the pandemic compared with product lines targeting at consumers."
   ]
  },
  {
   "cell_type": "markdown",
   "metadata": {},
   "source": [
    "# interparfums\n",
    "\n",
    "Interparfums is a neaarly in-all perfume corporation having several different brands for portfolio diversification, let us look at its performance in the last few years and the impact of COVID-19 in 2020.\n",
    "\n",
    "1. Overall Sales\n",
    "2. Brand (Montblanc, Jimmy Choo, Baucheron, Lanvin, Rochas, Van Cleef & Arpels, Karl Lagerfeld, Paul Smith, S.T. Dupont, Repetto) data from 2016 - 2020\n",
    "3. Region (North America, Western Europe, Asia, Middle East, France, South America, Eastern Europe, Africa) data from 2016 - 2020 "
   ]
  },
  {
   "cell_type": "code",
   "execution_count": null,
   "metadata": {},
   "outputs": [],
   "source": [
    "xls = pd.ExcelFile(f\"{get_file(r'data/interparfums.xlsx')}\", engine='openpyxl')\n",
    "\n",
    "df_dict = build_df_dict(xls=xls, sheet_name='By_Brand', section='Brand')\n",
    "\n",
    "sales_dict = defaultdict(int)\n",
    "\n",
    "for key, df in df_dict.items():\n",
    "    key_dict = df.set_index('Year')['Sales'].to_dict()\n",
    "    for year, sale in key_dict.items():\n",
    "        sales_dict[year] += sale\n",
    "        \n",
    "sales_df = pd.DataFrame.from_dict(sales_dict, orient='index', columns=['Sales']).sort_index()\n",
    "sales_df.index.name='Year'\n",
    "sales_df.reset_index(inplace=True)\n",
    "\n",
    "fig, ax = plt.subplots(figsize=(8, 6))\n",
    "\n",
    "time_series_plot(ax, sales_df, \"interparfums sales\", 'Year', 'Sales')"
   ]
  },
  {
   "cell_type": "markdown",
   "metadata": {},
   "source": [
    "Its sales plummeted as expected from the sales of the fragrances sections of L'Oreal and Estee Lauder, however compared with nearly 10% loss, interparfums sufferred even more. Let us take a look at the performance of different brands within the group. "
   ]
  },
  {
   "cell_type": "code",
   "execution_count": null,
   "metadata": {},
   "outputs": [],
   "source": [
    "metric='Sales'\n",
    "nrows=4\n",
    "ncols=3\n",
    "  \n",
    "fig, axes = plt.subplots(nrows=nrows, ncols=ncols, figsize=(8*ncols, 6*nrows))\n",
    "\n",
    "for ic, c in enumerate(list(df_dict.keys())):\n",
    "    iy = ic%nrows\n",
    "    ix = ic//nrows\n",
    "    time_series_plot(axes[iy][ix],df_dict[c], c, 'Year', metric)"
   ]
  },
  {
   "cell_type": "code",
   "execution_count": null,
   "metadata": {},
   "outputs": [],
   "source": [
    "# Sales between 2018 and 2019, which will be used in summary later.\n",
    "\n",
    "brand_variation = []\n",
    "revenue_2018 = 0\n",
    "revenue_2019 = 0\n",
    "\n",
    "for brand, df in df_dict.items():\n",
    "    df_temp = df.set_index('Year')\n",
    "    \n",
    "    r_2018 = df_temp.loc[2018]['Sales']\n",
    "    r_2019 = df_temp.loc[2019]['Sales']\n",
    "    \n",
    "    brand_variation.append((brand, np.round((r_2019 - r_2018)/r_2018, 4)))\n",
    "    \n",
    "    revenue_2018 += r_2018\n",
    "    revenue_2019 += r_2019\n",
    "\n",
    "brand_variation.sort(key=lambda x: x[1])\n",
    "print(brand_variation)\n",
    "print('Group variation', np.round((revenue_2019 - revenue_2018)/revenue_2018, 4))"
   ]
  },
  {
   "cell_type": "markdown",
   "metadata": {},
   "source": [
    "Short summary: the sales of the 10 brands shown above decreases dramatically in 2020 which is consistent with phenomena in annual reports of Estee Lauder and L'Oreal. We can see that in 2018 - 2019, 10 brands have variation between -39% to 29%, but in average the sales increased by 7.6%. Therefore during normal time this strategy is quite successful. Nevertheless it is not good enough against large scale pandemic."
   ]
  },
  {
   "cell_type": "markdown",
   "metadata": {},
   "source": [
    "Without skin care section, we can see how sales in different regions, expecially the Asia market, performed."
   ]
  },
  {
   "cell_type": "code",
   "execution_count": null,
   "metadata": {},
   "outputs": [],
   "source": [
    "metric='Sales'\n",
    "nrows=4\n",
    "ncols=2\n",
    "\n",
    "df_dict = build_df_dict(xls=xls, sheet_name='By_Region', section='Region')\n",
    "        \n",
    "fig, axes = plt.subplots(nrows=nrows, ncols=ncols, figsize=(8*ncols, 6*nrows))\n",
    "\n",
    "for ic, c in enumerate(list(df_dict.keys())):\n",
    "    iy = ic%nrows\n",
    "    ix = ic//nrows\n",
    "    time_series_plot(axes[iy][ix],df_dict[c], c, 'Year', metric)"
   ]
  },
  {
   "cell_type": "code",
   "execution_count": null,
   "metadata": {},
   "outputs": [],
   "source": [
    "region_variation = []\n",
    "revenue_2019 = 0\n",
    "revenue_2020 = 0\n",
    "\n",
    "for region, df in df_dict.items():\n",
    "    df_temp = df.set_index('Year')\n",
    "    \n",
    "    r_2019 = df_temp.loc[2019]['Sales']\n",
    "    r_2020 = df_temp.loc[2020]['Sales']\n",
    "    \n",
    "    region_variation.append((region, np.round((r_2020 - r_2019)/r_2019, 4)))\n",
    "    \n",
    "    revenue_2020 += r_2020\n",
    "    revenue_2019 += r_2019\n",
    "\n",
    "region_variation.sort(key=lambda x: x[1])\n",
    "print(region_variation)\n",
    "print('Group variation', np.round((revenue_2020 - revenue_2019)/revenue_2019, 4))"
   ]
  },
  {
   "cell_type": "markdown",
   "metadata": {},
   "source": [
    "Short summary: interparfums fragrance business collapsed in global scale and the result is consistent with the reports shown by Estee Lauder and L'Oreal. The group in average lost 24.11% of its sales. This time without the support from the skin care sector, its sales also plummeted in Asia."
   ]
  }
 ],
 "metadata": {
  "kernelspec": {
   "display_name": "Python 3",
   "language": "python",
   "name": "python3"
  },
  "language_info": {
   "codemirror_mode": {
    "name": "ipython",
    "version": 3
   },
   "file_extension": ".py",
   "mimetype": "text/x-python",
   "name": "python",
   "nbconvert_exporter": "python",
   "pygments_lexer": "ipython3",
   "version": "3.7.10"
  }
 },
 "nbformat": 4,
 "nbformat_minor": 4
}
